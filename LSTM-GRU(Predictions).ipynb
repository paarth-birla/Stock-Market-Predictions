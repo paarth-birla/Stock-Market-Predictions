{
  "nbformat": 4,
  "nbformat_minor": 0,
  "metadata": {
    "colab": {
      "name": "Comparsion between LSTM and LSTM-GRU.ipynb",
      "provenance": [],
      "collapsed_sections": [
        "vkvYUXLHIOqu"
      ]
    },
    "kernelspec": {
      "name": "python3",
      "display_name": "Python 3"
    },
    "language_info": {
      "name": "python"
    }
  },
  "cells": [
    {
      "cell_type": "code",
      "metadata": {
        "id": "XYBXgoZ-7Suj"
      },
      "source": [
        "import yfinance as yf\n",
        "import pandas as pd\n",
        "import numpy as np\n",
        "import matplotlib.pyplot as plt\n",
        "from sklearn.model_selection import train_test_split\n",
        "from sklearn.preprocessing import MinMaxScaler\n",
        "from keras.models import Sequential\n",
        "from keras.layers import Dense, LSTM, Dropout, Input, GRU"
      ],
      "execution_count": null,
      "outputs": []
    },
    {
      "cell_type": "code",
      "metadata": {
        "id": "Ult1Ix-lBKBe"
      },
      "source": [
        "stock = yf.Ticker('TATAMOTORS.NS')\n",
        "data = stock.history(period = 'max')\n",
        "data"
      ],
      "execution_count": null,
      "outputs": []
    },
    {
      "cell_type": "code",
      "metadata": {
        "id": "WksdttDpBM7C"
      },
      "source": [
        "close = data['Close'].values\n",
        "close=close.reshape(-1,1)\n",
        "close.shape"
      ],
      "execution_count": null,
      "outputs": []
    },
    {
      "cell_type": "code",
      "metadata": {
        "id": "YwWnCoFUBM4h"
      },
      "source": [
        "scaler = MinMaxScaler(feature_range=(0,1))"
      ],
      "execution_count": null,
      "outputs": []
    },
    {
      "cell_type": "code",
      "metadata": {
        "id": "z3_vY8RzBM17"
      },
      "source": [
        "scaled_data = scaler.fit_transform(data['Close'].values.reshape(-1,1))\n",
        "scaled_data.shape"
      ],
      "execution_count": null,
      "outputs": []
    },
    {
      "cell_type": "code",
      "metadata": {
        "id": "izJAtlINBMzE"
      },
      "source": [
        "train_data = scaled_data[:].reshape(-1,1)\n",
        "train_data.shape"
      ],
      "execution_count": null,
      "outputs": []
    },
    {
      "cell_type": "code",
      "metadata": {
        "id": "w4I0z9VfBMv2"
      },
      "source": [
        "prediction_days = 100"
      ],
      "execution_count": null,
      "outputs": []
    },
    {
      "cell_type": "code",
      "metadata": {
        "id": "kEymbERSBMs1"
      },
      "source": [
        "x_train = []\n",
        "y_train = []"
      ],
      "execution_count": null,
      "outputs": []
    },
    {
      "cell_type": "code",
      "metadata": {
        "id": "iY5JmRFcBMp8"
      },
      "source": [
        "for x in range(prediction_days, len(train_data)):\n",
        "  x_train.append(train_data[x-prediction_days:x, 0])\n",
        "  y_train.append(train_data[x, 0])\n",
        "\n",
        "x_train, y_train = np.array(x_train), np.array(y_train)"
      ],
      "execution_count": null,
      "outputs": []
    },
    {
      "cell_type": "code",
      "metadata": {
        "id": "okjyO7d6BMnC"
      },
      "source": [
        "x_train = np.reshape(x_train, (x_train.shape[0], x_train.shape[1], 1))\n",
        "x_train.shape"
      ],
      "execution_count": null,
      "outputs": []
    },
    {
      "cell_type": "code",
      "metadata": {
        "id": "qMMN9XNkBMha"
      },
      "source": [
        "model = Sequential()\n",
        "\n",
        "model.add(Input(shape = (x_train.shape[1],1)))\n",
        "\n",
        "model.add(LSTM(units = 100, return_sequences=True))\n",
        "model.add(Dropout(0.2))\n",
        "\n",
        "model.add(GRU(units=100, return_sequences=True))\n",
        "model.add(Dropout(0.2))\n",
        "\n",
        "model.add(GRU(units=100, return_sequences=True))\n",
        "model.add(Dropout(0.2))\n",
        "\n",
        "model.add(LSTM(units=100))\n",
        "model.add(Dropout(0.2))\n",
        "\n",
        "model.add(Dense(units = 1))\n",
        "\n",
        "model.compile(optimizer = 'adam', loss = 'mean_squared_error')"
      ],
      "execution_count": null,
      "outputs": []
    },
    {
      "cell_type": "code",
      "metadata": {
        "id": "qNXmkRb_BMbz"
      },
      "source": [
        "model.summary()"
      ],
      "execution_count": null,
      "outputs": []
    },
    {
      "cell_type": "code",
      "metadata": {
        "id": "GgsIApQVBMV0"
      },
      "source": [
        "model.fit(x_train, y_train, epochs = 100, batch_size = 64)"
      ],
      "execution_count": null,
      "outputs": []
    },
    {
      "cell_type": "code",
      "metadata": {
        "id": "9Smag0mMB6wl"
      },
      "source": [
        "pred = model.predict(x_train)"
      ],
      "execution_count": null,
      "outputs": []
    },
    {
      "cell_type": "code",
      "metadata": {
        "id": "k1oiQWKLB6s9"
      },
      "source": [
        "plt.figure(figsize=(10,8))\n",
        "plt.plot(y_train, color = 'red', label = 'Actual')\n",
        "plt.plot(pred, color = 'green', label = 'LSTM-GRU Prediction')\n",
        "plt.ylabel('TATAMOTORS Price in Rs')\n",
        "plt.xlabel('Time in Integer')\n",
        "plt.title('TATAMOTORS Share Prices')\n",
        "plt.legend()\n",
        "plt.show()"
      ],
      "execution_count": null,
      "outputs": []
    },
    {
      "cell_type": "code",
      "metadata": {
        "id": "6ZfHJ9ZJB6pg"
      },
      "source": [
        "stock_test = yf.Ticker('TATASTEEL.NS')\n",
        "data_test = stock_test.history(period = 'max')\n",
        "data_test"
      ],
      "execution_count": null,
      "outputs": []
    },
    {
      "cell_type": "code",
      "metadata": {
        "id": "pYsNtEPzB6l_"
      },
      "source": [
        "scaled_data = scaler.fit_transform(data_test['Close'].values.reshape(-1,1))\n",
        "test_data = scaled_data[:].reshape(-1,1)\n",
        "test_data.shape"
      ],
      "execution_count": null,
      "outputs": []
    },
    {
      "cell_type": "code",
      "metadata": {
        "id": "5o61EQ5GB6i1"
      },
      "source": [
        "x_test = []\n",
        "y_test = []\n",
        "prediction_days = 100"
      ],
      "execution_count": null,
      "outputs": []
    },
    {
      "cell_type": "code",
      "metadata": {
        "id": "11P1uQAhB6fl"
      },
      "source": [
        "for x in range(prediction_days, len(test_data)):\n",
        "  x_test.append(test_data[x-prediction_days:x, 0])\n",
        "  y_test.append(test_data[x, 0])\n",
        "\n",
        "x_test, y_test = np.array(x_test), np.array(y_test)\n",
        "\n",
        "x_test.shape, y_test.shape"
      ],
      "execution_count": null,
      "outputs": []
    },
    {
      "cell_type": "code",
      "metadata": {
        "id": "y6qx5vFeB6bd"
      },
      "source": [
        "x_test = np.reshape(x_test, (x_test.shape[0], x_test.shape[1], 1))\n",
        "x_test.shape"
      ],
      "execution_count": null,
      "outputs": []
    },
    {
      "cell_type": "code",
      "metadata": {
        "id": "c_1wf07wB6VC"
      },
      "source": [
        "prediction_price = model.predict(x_test)"
      ],
      "execution_count": null,
      "outputs": []
    },
    {
      "cell_type": "code",
      "metadata": {
        "id": "nr3K6rZ7ZHDW"
      },
      "source": [
        "y_test = y_test.reshape(-1,1)\n",
        "y_test.shape"
      ],
      "execution_count": null,
      "outputs": []
    },
    {
      "cell_type": "code",
      "metadata": {
        "id": "RDLRL7iuB6RZ"
      },
      "source": [
        "y_test = scaler.inverse_transform(y_test)\n",
        "prediction_price = scaler.inverse_transform(prediction_price)"
      ],
      "execution_count": null,
      "outputs": []
    },
    {
      "cell_type": "code",
      "metadata": {
        "id": "af3a5xYzB6OX"
      },
      "source": [
        "plt.figure(figsize=(10,8))\n",
        "plt.plot(y_test, color = 'red', label = 'Actual')\n",
        "plt.plot(prediction_price, color = '#89DA59', label = 'LSTM-GRU Prediction')\n",
        "plt.ylabel('TATASTEEL Price in Rs')\n",
        "plt.xlabel('Time in Integer')\n",
        "plt.title('TATASTEEL Share Prices')\n",
        "plt.legend()\n",
        "plt.show()"
      ],
      "execution_count": null,
      "outputs": []
    }
  ]
}